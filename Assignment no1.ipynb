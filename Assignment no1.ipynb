{
 "cells": [
  {
   "cell_type": "code",
   "execution_count": 1,
   "id": "6c09e231-2013-45b9-9f6f-e9279b273dea",
   "metadata": {},
   "outputs": [],
   "source": [
    "#Declare two variables, x and y, and assign them integer values. Swap the values of these variables without using any temporary variable"
   ]
  },
  {
   "cell_type": "code",
   "execution_count": 1,
   "id": "6413166f-f9d1-4f5c-822b-1bdfc972cd6b",
   "metadata": {},
   "outputs": [
    {
     "name": "stdout",
     "output_type": "stream",
     "text": [
      "Before swap x: 8 and y: 15\n",
      "After swap x: 15 and y: 8\n"
     ]
    }
   ],
   "source": [
    "# Step 1: Declare and initialize variables\n",
    "x = 8\n",
    "y = 15\n",
    "\n",
    "# Step 2: Creating function to swap the variables\n",
    "def swap(x,y):\n",
    "  print(\"Before swap x:\",x, \"and y:\",y)\n",
    "  x,y = y, x\n",
    "  print(\"After swap x:\",x, \"and y:\",y)\n",
    "\n",
    "swap(x,y)\n"
   ]
  },
  {
   "cell_type": "code",
   "execution_count": 3,
   "id": "920f575b-677f-4096-bd04-8bc6a62e67f0",
   "metadata": {},
   "outputs": [],
   "source": [
    "#Create a program that calculates the area of a rectangle. Take the length and width as inputs from the user and store them in variables.\n",
    "#Calculate and display the area "
   ]
  },
  {
   "cell_type": "code",
   "execution_count": 2,
   "id": "d43ebc52-baf0-4353-8bab-5011e8a5a29c",
   "metadata": {},
   "outputs": [
    {
     "name": "stdin",
     "output_type": "stream",
     "text": [
      "Enter the length of the rectangle:  5\n",
      "Enter the width of the rectangle:  151\n"
     ]
    },
    {
     "name": "stdout",
     "output_type": "stream",
     "text": [
      "The area of the rectangle is: 755.0\n"
     ]
    }
   ],
   "source": [
    "length = float(input(\"Enter the length of the rectangle: \")) \n",
    "width = float(input(\"Enter the width of the rectangle: \"))  \n",
    "\n",
    "area = length * width # Calculating the area by multiplying length and width\n",
    "\n",
    "# Step 3: Display the calculated area to the user\n",
    "print(\"The area of the rectangle is:\", area)  # Printing the calculated area"
   ]
  },
  {
   "cell_type": "code",
   "execution_count": 5,
   "id": "5652d956-206e-4da7-a78d-0e5366f28c05",
   "metadata": {},
   "outputs": [],
   "source": [
    "#3. Write a Python program that converts temperatures from Celsius to Fahrenheit. \n",
    "#Take the temperature in Celsius as input, store it in a variable, convert it to Fahrenheit, and display the result."
   ]
  },
  {
   "cell_type": "code",
   "execution_count": 6,
   "id": "ef20223f-2883-4932-bca0-29aef4f30bbd",
   "metadata": {},
   "outputs": [
    {
     "name": "stdin",
     "output_type": "stream",
     "text": [
      "Enter temperature in Celsius:  87\n"
     ]
    },
    {
     "name": "stdout",
     "output_type": "stream",
     "text": [
      "87.0 Celsius is equal to 188.6 Fahrenheit\n"
     ]
    }
   ],
   "source": [
    "\n",
    "c_temp= float(input(\"Enter temperature in Celsius: \"))\n",
    "\n",
    "f_temp = (c_temp * 9/5) + 32\n",
    "\n",
    "# Step 3: Display the converted temperature in Fahrenheit\n",
    "print(c_temp,\"Celsius is equal to\",f_temp,\"Fahrenheit\")"
   ]
  },
  {
   "cell_type": "code",
   "execution_count": 7,
   "id": "dbdb8f95-f38d-4a19-8ac7-8893413912b1",
   "metadata": {},
   "outputs": [],
   "source": [
    "#Write a Python program that takes a string as input and prints the length of the string"
   ]
  },
  {
   "cell_type": "code",
   "execution_count": 8,
   "id": "66813868-991c-4cb3-a772-c48ff5fc064d",
   "metadata": {},
   "outputs": [
    {
     "name": "stdin",
     "output_type": "stream",
     "text": [
      "Enter a string:  this is a string \n"
     ]
    },
    {
     "name": "stdout",
     "output_type": "stream",
     "text": [
      "The length of the input string is: 17\n"
     ]
    }
   ],
   "source": [
    "get_string = input(\"Enter a string: \")\n",
    "\n",
    "# Step 2: Calculate the length of the input string using the built-in len() function\n",
    "get_length = len(get_string)\n",
    "\n",
    "# Step 3: Print the length of the string\n",
    "print(\"The length of the input string is:\",get_length)"
   ]
  },
  {
   "cell_type": "code",
   "execution_count": 9,
   "id": "8a9c3ec8-ba93-46ba-b6eb-db72e6a441f8",
   "metadata": {},
   "outputs": [],
   "source": [
    " #Create a program that takes a sentence from the user and counts the number of vowels (a, e, i, o, u) in the string.¶"
   ]
  },
  {
   "cell_type": "code",
   "execution_count": 10,
   "id": "455fc4ef-81b2-494f-8fb3-3c7da485c192",
   "metadata": {},
   "outputs": [
    {
     "name": "stdin",
     "output_type": "stream",
     "text": [
      "Enter a sentence:  this is a sentence for number of variable \n"
     ]
    },
    {
     "name": "stdout",
     "output_type": "stream",
     "text": [
      "Number of vowels: 14\n"
     ]
    }
   ],
   "source": [
    "\n",
    "sentence = input(\"Enter a sentence: \")\n",
    "\n",
    "vowel_count = 0\n",
    "\n",
    "# Step 3: Iterate through each character in the sentence\n",
    "for char in sentence:\n",
    "    # Step 4: Convert the character to lowercase to handle both uppercase and lowercase vowels\n",
    "    char_lower = char.lower()\n",
    "\n",
    "    # Step 5: Check if the character is a vowel (a, e, i, o, u)\n",
    "    if char_lower in \"aeiou\":\n",
    "        # Step 6: If the character is a vowel, increment the vowel_count variable\n",
    "        vowel_count += 1\n",
    "\n",
    "# Step 7: Display the result\n",
    "print(\"Number of vowels:\", vowel_count)"
   ]
  },
  {
   "cell_type": "code",
   "execution_count": 21,
   "id": "10e04dad-3009-4375-9376-3cda32fd94c7",
   "metadata": {},
   "outputs": [
    {
     "name": "stdin",
     "output_type": "stream",
     "text": [
      "enter a sentece here:  dtfjbkytdrduhkjgdrae\n"
     ]
    },
    {
     "name": "stdout",
     "output_type": "stream",
     "text": [
      "number of vowels: 3\n"
     ]
    }
   ],
   "source": [
    "char =input(\"enter a sentece here: \")\n",
    "char_word=char.lower()\n",
    "count=0\n",
    "for word in char_word:\n",
    "     if word in \"aeiou\":\n",
    "        count+=1\n",
    "        \n",
    "print(\"number of vowels:\",count)"
   ]
  },
  {
   "cell_type": "code",
   "execution_count": 22,
   "id": "cd4ebd6a-52cf-4651-a9bb-2bc4e6d256cc",
   "metadata": {},
   "outputs": [],
   "source": [
    "#Given a string, reverse the order of characters using string slicing and print\n",
    "#the reversed string\n"
   ]
  },
  {
   "cell_type": "code",
   "execution_count": 28,
   "id": "814cbce9-dacf-48dd-bd1d-0247027ca0d8",
   "metadata": {},
   "outputs": [
    {
     "name": "stdin",
     "output_type": "stream",
     "text": [
      "type here  this is word\n"
     ]
    },
    {
     "name": "stdout",
     "output_type": "stream",
     "text": [
      "drow si siht\n"
     ]
    }
   ],
   "source": [
    "case_1=input(\"type here \")\n",
    "reversed_case=case_1[::-1]\n",
    "print(reversed_case)"
   ]
  },
  {
   "cell_type": "code",
   "execution_count": 32,
   "id": "6b329d80-f6b5-4fa3-9a4e-508378f6921d",
   "metadata": {},
   "outputs": [],
   "source": [
    "#Write a program that takes a string as input and checks if it is a palindrome\n",
    "#(reads the same forwards and backwards).\n"
   ]
  },
  {
   "cell_type": "code",
   "execution_count": 37,
   "id": "0472161f-8db6-4bf7-8e19-91143909f3de",
   "metadata": {},
   "outputs": [
    {
     "name": "stdin",
     "output_type": "stream",
     "text": [
      "get word from user  aaajj\n"
     ]
    },
    {
     "name": "stdout",
     "output_type": "stream",
     "text": [
      "this is not an palindome\n"
     ]
    }
   ],
   "source": [
    "case_2= input(\"get word from user \")\n",
    "rev=case_2[::-1]\n",
    "if case_2==rev:\n",
    "    print(\"this is Palimdrome word\")\n",
    "else :\n",
    "    print(\"this is not an palindome\")"
   ]
  },
  {
   "cell_type": "code",
   "execution_count": null,
   "id": "d173fc53-8e79-4c62-8e18-350f31e83790",
   "metadata": {},
   "outputs": [],
   "source": [
    " ##Create a program that takes a string as input and removes all the spaces from\n",
    "#it. Print the modified string without spaces.\n"
   ]
  },
  {
   "cell_type": "code",
   "execution_count": 5,
   "id": "db2ecaad-1d1e-455c-832b-19170ad267a4",
   "metadata": {},
   "outputs": [
    {
     "name": "stdin",
     "output_type": "stream",
     "text": [
      "type an sentence with spaces here: jerber nerferf ierfi\n"
     ]
    },
    {
     "name": "stdout",
     "output_type": "stream",
     "text": [
      "jerbernerferfierfi\n"
     ]
    }
   ],
   "source": [
    "sentence =input(\"type an sentence with spaces here:\")\n",
    "\n",
    "def remove(sentence):\n",
    "    return sentence.replace(\" \", \"\")\n",
    "\n",
    "print(remove(sentence))"
   ]
  },
  {
   "cell_type": "code",
   "execution_count": null,
   "id": "89d967ba-afb2-478b-86e7-0f34a23400e8",
   "metadata": {},
   "outputs": [],
   "source": []
  }
 ],
 "metadata": {
  "kernelspec": {
   "display_name": "Python 3 (ipykernel)",
   "language": "python",
   "name": "python3"
  },
  "language_info": {
   "codemirror_mode": {
    "name": "ipython",
    "version": 3
   },
   "file_extension": ".py",
   "mimetype": "text/x-python",
   "name": "python",
   "nbconvert_exporter": "python",
   "pygments_lexer": "ipython3",
   "version": "3.10.8"
  }
 },
 "nbformat": 4,
 "nbformat_minor": 5
}
